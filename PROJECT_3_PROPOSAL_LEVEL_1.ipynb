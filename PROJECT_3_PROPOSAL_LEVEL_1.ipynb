{
  "nbformat": 4,
  "nbformat_minor": 0,
  "metadata": {
    "colab": {
      "provenance": []
    },
    "kernelspec": {
      "name": "python3",
      "display_name": "Python 3"
    },
    "language_info": {
      "name": "python"
    }
  },
  "cells": [
    {
      "cell_type": "code",
      "execution_count": 1,
      "metadata": {
        "id": "P5q88f9_jIz8"
      },
      "outputs": [],
      "source": [
        "import pandas as pd\n",
        "import numpy as np\n",
        "import matplotlib.pyplot as plt\n",
        "import seaborn as sns\n"
      ]
    },
    {
      "cell_type": "code",
      "source": [
        "df = pd.read_csv('AB_NYC_2019.csv')"
      ],
      "metadata": {
        "id": "v0zE6RYwmNvO"
      },
      "execution_count": 2,
      "outputs": []
    },
    {
      "cell_type": "code",
      "source": [
        "print(df.info())"
      ],
      "metadata": {
        "colab": {
          "base_uri": "https://localhost:8080/"
        },
        "id": "uwx6NarfmNyq",
        "outputId": "975ec5f7-6e0e-4447-cbff-b7afdac06c71"
      },
      "execution_count": 3,
      "outputs": [
        {
          "output_type": "stream",
          "name": "stdout",
          "text": [
            "<class 'pandas.core.frame.DataFrame'>\n",
            "RangeIndex: 29203 entries, 0 to 29202\n",
            "Data columns (total 16 columns):\n",
            " #   Column                          Non-Null Count  Dtype  \n",
            "---  ------                          --------------  -----  \n",
            " 0   id                              29203 non-null  int64  \n",
            " 1   name                            29187 non-null  object \n",
            " 2   host_id                         29202 non-null  float64\n",
            " 3   host_name                       29184 non-null  object \n",
            " 4   neighbourhood_group             29202 non-null  object \n",
            " 5   neighbourhood                   29202 non-null  object \n",
            " 6   latitude                        29202 non-null  float64\n",
            " 7   longitude                       29202 non-null  float64\n",
            " 8   room_type                       29202 non-null  object \n",
            " 9   price                           29202 non-null  float64\n",
            " 10  minimum_nights                  29202 non-null  float64\n",
            " 11  number_of_reviews               29202 non-null  float64\n",
            " 12  last_review                     24373 non-null  object \n",
            " 13  reviews_per_month               24373 non-null  float64\n",
            " 14  calculated_host_listings_count  29202 non-null  float64\n",
            " 15  availability_365                29202 non-null  float64\n",
            "dtypes: float64(9), int64(1), object(6)\n",
            "memory usage: 3.6+ MB\n",
            "None\n"
          ]
        }
      ]
    },
    {
      "cell_type": "code",
      "source": [
        "print(\"\\\n",
        "First few rows of the dataset:\")\n",
        "print(df.head())"
      ],
      "metadata": {
        "colab": {
          "base_uri": "https://localhost:8080/"
        },
        "id": "9iw9enCamV61",
        "outputId": "0f23cf7e-6ff5-4104-b987-b2bcdc09dae6"
      },
      "execution_count": 4,
      "outputs": [
        {
          "output_type": "stream",
          "name": "stdout",
          "text": [
            "First few rows of the dataset:\n",
            "     id                                              name  host_id  \\\n",
            "0  2539                Clean & quiet apt home by the park   2787.0   \n",
            "1  2595                             Skylit Midtown Castle   2845.0   \n",
            "2  3647               THE VILLAGE OF HARLEM....NEW YORK !   4632.0   \n",
            "3  3831                   Cozy Entire Floor of Brownstone   4869.0   \n",
            "4  5022  Entire Apt: Spacious Studio/Loft by central park   7192.0   \n",
            "\n",
            "     host_name neighbourhood_group neighbourhood  latitude  longitude  \\\n",
            "0         John            Brooklyn    Kensington  40.64749  -73.97237   \n",
            "1     Jennifer           Manhattan       Midtown  40.75362  -73.98377   \n",
            "2    Elisabeth           Manhattan        Harlem  40.80902  -73.94190   \n",
            "3  LisaRoxanne            Brooklyn  Clinton Hill  40.68514  -73.95976   \n",
            "4        Laura           Manhattan   East Harlem  40.79851  -73.94399   \n",
            "\n",
            "         room_type  price  minimum_nights  number_of_reviews last_review  \\\n",
            "0     Private room  149.0             1.0                9.0  2018-10-19   \n",
            "1  Entire home/apt  225.0             1.0               45.0  2019-05-21   \n",
            "2     Private room  150.0             3.0                0.0         NaN   \n",
            "3  Entire home/apt   89.0             1.0              270.0  2019-07-05   \n",
            "4  Entire home/apt   80.0            10.0                9.0  2018-11-19   \n",
            "\n",
            "   reviews_per_month  calculated_host_listings_count  availability_365  \n",
            "0               0.21                             6.0             365.0  \n",
            "1               0.38                             2.0             355.0  \n",
            "2                NaN                             1.0             365.0  \n",
            "3               4.64                             1.0             194.0  \n",
            "4               0.10                             1.0               0.0  \n"
          ]
        }
      ]
    },
    {
      "cell_type": "code",
      "source": [
        "print(\"\\\n",
        "Summary statistics:\")\n",
        "print(df.describe())\n"
      ],
      "metadata": {
        "colab": {
          "base_uri": "https://localhost:8080/"
        },
        "id": "-BTHGte1mZpX",
        "outputId": "2b3a61aa-2d98-4aa6-a80e-6d895dfadbbb"
      },
      "execution_count": 5,
      "outputs": [
        {
          "output_type": "stream",
          "name": "stdout",
          "text": [
            "Summary statistics:\n",
            "                 id       host_id      latitude     longitude         price  \\\n",
            "count  2.920300e+04  2.920200e+04  29202.000000  29202.000000  29202.000000   \n",
            "mean   1.141531e+07  3.418226e+07     40.729139    -73.954652    148.219095   \n",
            "std    6.882951e+06  4.006633e+07      0.053707      0.041836    226.261213   \n",
            "min    2.539000e+03  2.571000e+03     40.499790    -74.242850      0.000000   \n",
            "25%    5.371022e+06  4.843862e+06     40.689350    -73.982610     70.000000   \n",
            "50%    1.152941e+07  1.812999e+07     40.722750    -73.956745    109.000000   \n",
            "75%    1.760850e+07  4.805519e+07     40.763847    -73.939863    174.000000   \n",
            "max    2.240994e+07  1.640484e+08     40.911690    -73.712990  10000.000000   \n",
            "\n",
            "       minimum_nights  number_of_reviews  reviews_per_month  \\\n",
            "count    29202.000000       29202.000000       24373.000000   \n",
            "mean         7.061468          32.499418           1.019477   \n",
            "std         22.488124          54.200405           1.389368   \n",
            "min          1.000000           0.000000           0.010000   \n",
            "25%          2.000000           1.000000           0.110000   \n",
            "50%          3.000000           8.000000           0.400000   \n",
            "75%          5.000000          40.000000           1.430000   \n",
            "max       1250.000000         629.000000          19.750000   \n",
            "\n",
            "       calculated_host_listings_count  availability_365  \n",
            "count                    29202.000000      29202.000000  \n",
            "mean                         3.543250         99.267242  \n",
            "std                         12.108883        130.122810  \n",
            "min                          1.000000          0.000000  \n",
            "25%                          1.000000          0.000000  \n",
            "50%                          1.000000          8.000000  \n",
            "75%                          2.000000        201.000000  \n",
            "max                        232.000000        365.000000  \n"
          ]
        }
      ]
    },
    {
      "cell_type": "code",
      "source": [
        "print(\"\\\n",
        "Missing values:\")\n",
        "print(df.isnull().sum())"
      ],
      "metadata": {
        "colab": {
          "base_uri": "https://localhost:8080/"
        },
        "id": "W1snEbYPmhIc",
        "outputId": "0fa10aa1-80dc-49fe-d7a5-f041ffbe0538"
      },
      "execution_count": 6,
      "outputs": [
        {
          "output_type": "stream",
          "name": "stdout",
          "text": [
            "Missing values:\n",
            "id                                   0\n",
            "name                                16\n",
            "host_id                              1\n",
            "host_name                           19\n",
            "neighbourhood_group                  1\n",
            "neighbourhood                        1\n",
            "latitude                             1\n",
            "longitude                            1\n",
            "room_type                            1\n",
            "price                                1\n",
            "minimum_nights                       1\n",
            "number_of_reviews                    1\n",
            "last_review                       4830\n",
            "reviews_per_month                 4830\n",
            "calculated_host_listings_count       1\n",
            "availability_365                     1\n",
            "dtype: int64\n"
          ]
        }
      ]
    },
    {
      "cell_type": "code",
      "source": [
        "print(\"\\\n",
        "Number of duplicate rows:\")\n",
        "print(df.duplicated().sum())"
      ],
      "metadata": {
        "colab": {
          "base_uri": "https://localhost:8080/"
        },
        "id": "Ddl1fj5Immcb",
        "outputId": "6f76cded-0b3e-4db4-f9f2-3c11a6eb9b9e"
      },
      "execution_count": 7,
      "outputs": [
        {
          "output_type": "stream",
          "name": "stdout",
          "text": [
            "Number of duplicate rows:\n",
            "0\n"
          ]
        }
      ]
    },
    {
      "cell_type": "code",
      "source": [
        "\n",
        "df['name'].fillna('Unknown', inplace=True)\n",
        "df['host_name'].fillna('Unknown', inplace=True)\n",
        "\n",
        "df['last_review'].fillna('1970-01-01', inplace=True)\n",
        "\n",
        "df['reviews_per_month'].fillna(0, inplace=True)\n",
        "\n",
        "print(\"\\\n",
        "Missing values after imputation:\")\n",
        "print(df.isnull().sum())"
      ],
      "metadata": {
        "colab": {
          "base_uri": "https://localhost:8080/"
        },
        "id": "DCXxVTxUmoWg",
        "outputId": "55bfde19-7bd9-4b04-f91c-2ca8ccbdc882"
      },
      "execution_count": 8,
      "outputs": [
        {
          "output_type": "stream",
          "name": "stdout",
          "text": [
            "Missing values after imputation:\n",
            "id                                0\n",
            "name                              0\n",
            "host_id                           1\n",
            "host_name                         0\n",
            "neighbourhood_group               1\n",
            "neighbourhood                     1\n",
            "latitude                          1\n",
            "longitude                         1\n",
            "room_type                         1\n",
            "price                             1\n",
            "minimum_nights                    1\n",
            "number_of_reviews                 1\n",
            "last_review                       0\n",
            "reviews_per_month                 0\n",
            "calculated_host_listings_count    1\n",
            "availability_365                  1\n",
            "dtype: int64\n"
          ]
        }
      ]
    },
    {
      "cell_type": "code",
      "source": [
        "import pandas as pd\n",
        "import numpy as np\n",
        "from datetime import datetime\n",
        "\n"
      ],
      "metadata": {
        "id": "SvVDutJWnFF7"
      },
      "execution_count": 9,
      "outputs": []
    },
    {
      "cell_type": "code",
      "source": [
        "\n",
        "df = pd.read_csv('AB_NYC_2019.csv')\n"
      ],
      "metadata": {
        "id": "Fw700xmWnXS3"
      },
      "execution_count": 10,
      "outputs": []
    },
    {
      "cell_type": "code",
      "source": [
        "df['name'] = df['name'].str.strip().str.title()\n",
        "df['host_name'] = df['host_name'].str.strip().str.title()\n",
        "df['neighbourhood'] = df['neighbourhood'].str.strip().str.title()\n",
        "df['neighbourhood_group'] = df['neighbourhood_group'].str.strip().str.title()\n"
      ],
      "metadata": {
        "id": "ec2S99Omnmq_"
      },
      "execution_count": 11,
      "outputs": []
    },
    {
      "cell_type": "code",
      "source": [
        "df['price'] = df['price'].astype(int)\n",
        "df['last_review'] = pd.to_datetime(df['last_review'], format='%Y-%m-%d', errors='coerce')\n",
        "df['latitude'] = df['latitude'].round(5)\n",
        "df['longitude'] = df['longitude'].round(5)\n",
        "df['reviews_per_month'] = df['reviews_per_month'].round(2)"
      ],
      "metadata": {
        "id": "m4koX5QAnqkC"
      },
      "execution_count": 12,
      "outputs": []
    },
    {
      "cell_type": "code",
      "source": [
        "print(df.head())\n",
        "print(\"\\\n",
        "Dataset Info:\")\n",
        "print(df.info())"
      ],
      "metadata": {
        "colab": {
          "base_uri": "https://localhost:8080/"
        },
        "id": "5wVFOZPhn5XQ",
        "outputId": "1e0b5602-cec9-4561-873d-454fa781f15e"
      },
      "execution_count": 13,
      "outputs": [
        {
          "output_type": "stream",
          "name": "stdout",
          "text": [
            "     id                                              name  host_id  \\\n",
            "0  2539                Clean & Quiet Apt Home By The Park     2787   \n",
            "1  2595                             Skylit Midtown Castle     2845   \n",
            "2  3647               The Village Of Harlem....New York !     4632   \n",
            "3  3831                   Cozy Entire Floor Of Brownstone     4869   \n",
            "4  5022  Entire Apt: Spacious Studio/Loft By Central Park     7192   \n",
            "\n",
            "     host_name neighbourhood_group neighbourhood  latitude  longitude  \\\n",
            "0         John            Brooklyn    Kensington  40.64749  -73.97237   \n",
            "1     Jennifer           Manhattan       Midtown  40.75362  -73.98377   \n",
            "2    Elisabeth           Manhattan        Harlem  40.80902  -73.94190   \n",
            "3  Lisaroxanne            Brooklyn  Clinton Hill  40.68514  -73.95976   \n",
            "4        Laura           Manhattan   East Harlem  40.79851  -73.94399   \n",
            "\n",
            "         room_type  price  minimum_nights  number_of_reviews last_review  \\\n",
            "0     Private room    149               1                  9  2018-10-19   \n",
            "1  Entire home/apt    225               1                 45  2019-05-21   \n",
            "2     Private room    150               3                  0         NaT   \n",
            "3  Entire home/apt     89               1                270  2019-07-05   \n",
            "4  Entire home/apt     80              10                  9  2018-11-19   \n",
            "\n",
            "   reviews_per_month  calculated_host_listings_count  availability_365  \n",
            "0               0.21                               6               365  \n",
            "1               0.38                               2               355  \n",
            "2                NaN                               1               365  \n",
            "3               4.64                               1               194  \n",
            "4               0.10                               1                 0  \n",
            "Dataset Info:\n",
            "<class 'pandas.core.frame.DataFrame'>\n",
            "RangeIndex: 48895 entries, 0 to 48894\n",
            "Data columns (total 16 columns):\n",
            " #   Column                          Non-Null Count  Dtype         \n",
            "---  ------                          --------------  -----         \n",
            " 0   id                              48895 non-null  int64         \n",
            " 1   name                            48879 non-null  object        \n",
            " 2   host_id                         48895 non-null  int64         \n",
            " 3   host_name                       48874 non-null  object        \n",
            " 4   neighbourhood_group             48895 non-null  object        \n",
            " 5   neighbourhood                   48895 non-null  object        \n",
            " 6   latitude                        48895 non-null  float64       \n",
            " 7   longitude                       48895 non-null  float64       \n",
            " 8   room_type                       48895 non-null  object        \n",
            " 9   price                           48895 non-null  int64         \n",
            " 10  minimum_nights                  48895 non-null  int64         \n",
            " 11  number_of_reviews               48895 non-null  int64         \n",
            " 12  last_review                     38843 non-null  datetime64[ns]\n",
            " 13  reviews_per_month               38843 non-null  float64       \n",
            " 14  calculated_host_listings_count  48895 non-null  int64         \n",
            " 15  availability_365                48895 non-null  int64         \n",
            "dtypes: datetime64[ns](1), float64(3), int64(7), object(5)\n",
            "memory usage: 6.0+ MB\n",
            "None\n"
          ]
        }
      ]
    },
    {
      "cell_type": "code",
      "source": [
        "categorical_columns = ['neighbourhood_group', 'room_type']\n",
        "for col in categorical_columns:\n",
        "    print(f\"\\\n",
        "Unique values in {col}:\")\n",
        "    print(df[col].unique())\n",
        "\n",
        "numerical_columns = ['price', 'minimum_nights', 'number_of_reviews', 'reviews_per_month', 'calculated_host_listings_count', 'availability_365']\n",
        "for col in numerical_columns:\n",
        "    print(f\"\\\n",
        "Range of {col}:\")\n",
        "    print(f\"Min: {df[col].min()}, Max: {df[col].max()}\")\n",
        "\n",
        "print(\"\\\n",
        "Date range of last_review:\")\n",
        "print(f\"Earliest: {df['last_review'].min()}, Latest: {df['last_review'].max()}\")"
      ],
      "metadata": {
        "colab": {
          "base_uri": "https://localhost:8080/"
        },
        "id": "ZXHpq_D9oAT8",
        "outputId": "5f838f28-a759-4de0-8b42-c8bfcc6da880"
      },
      "execution_count": 14,
      "outputs": [
        {
          "output_type": "stream",
          "name": "stdout",
          "text": [
            "Unique values in neighbourhood_group:\n",
            "['Brooklyn' 'Manhattan' 'Queens' 'Staten Island' 'Bronx']\n",
            "Unique values in room_type:\n",
            "['Private room' 'Entire home/apt' 'Shared room']\n",
            "Range of price:\n",
            "Min: 0, Max: 10000\n",
            "Range of minimum_nights:\n",
            "Min: 1, Max: 1250\n",
            "Range of number_of_reviews:\n",
            "Min: 0, Max: 629\n",
            "Range of reviews_per_month:\n",
            "Min: 0.01, Max: 58.5\n",
            "Range of calculated_host_listings_count:\n",
            "Min: 1, Max: 327\n",
            "Range of availability_365:\n",
            "Min: 0, Max: 365\n",
            "Date range of last_review:\n",
            "Earliest: 2011-03-28 00:00:00, Latest: 2019-07-08 00:00:00\n"
          ]
        }
      ]
    },
    {
      "cell_type": "code",
      "source": [
        "\n",
        "def detect_outliers(df, column):\n",
        "    Q1 = df[column].quantile(0.25)\n",
        "    Q3 = df[column].quantile(0.75)\n",
        "    IQR = Q3 - Q1\n",
        "    lower_bound = Q1 - 1.5 * IQR\n",
        "    upper_bound = Q3 + 1.5 * IQR\n",
        "    outliers = df[(df[column] < lower_bound) | (df[column] > upper_bound)]\n",
        "    return outliers\n",
        "\n",
        "numerical_columns = ['price', 'minimum_nights', 'number_of_reviews', 'reviews_per_month', 'calculated_host_listings_count', 'availability_365']\n",
        "\n",
        "outliers_dict = {}\n",
        "for col in numerical_columns:\n",
        "    outliers_dict[col] = detect_outliers(df, col)\n",
        "    print(f\"Outliers in {col}:\")\n",
        "    print(outliers_dict[col].shape)\n",
        "\n",
        "def remove_outliers(df, column):\n",
        "    Q1 = df[column].quantile(0.25)\n",
        "    Q3 = df[column].quantile(0.75)\n",
        "    IQR = Q3 - Q1\n",
        "    lower_bound = Q1 - 1.5 * IQR\n",
        "    upper_bound = Q3 + 1.5 * IQR\n",
        "    df = df[(df[column] >= lower_bound) & (df[column] <= upper_bound)]\n",
        "    return df\n",
        "\n",
        "for col in numerical_columns:\n",
        "    df = remove_outliers(df, col)\n",
        "\n",
        "print(df.head())\n",
        "print(\"\\\n",
        "Dataset Info after removing outliers:\")\n",
        "print(df.info())"
      ],
      "metadata": {
        "colab": {
          "base_uri": "https://localhost:8080/"
        },
        "id": "EFzy8GTboXME",
        "outputId": "3ab5b436-8322-47bd-d556-2bf8d3ed3b67"
      },
      "execution_count": 15,
      "outputs": [
        {
          "output_type": "stream",
          "name": "stdout",
          "text": [
            "Outliers in price:\n",
            "(2972, 16)\n",
            "Outliers in minimum_nights:\n",
            "(6607, 16)\n",
            "Outliers in number_of_reviews:\n",
            "(6021, 16)\n",
            "Outliers in reviews_per_month:\n",
            "(1793, 16)\n",
            "Outliers in calculated_host_listings_count:\n",
            "(7081, 16)\n",
            "Outliers in availability_365:\n",
            "(0, 16)\n",
            "      id                                              name  host_id host_name  \\\n",
            "4   5022  Entire Apt: Spacious Studio/Loft By Central Park     7192     Laura   \n",
            "10  5295                  Beautiful 1Br On Upper West Side     7702      Lena   \n",
            "20  7801                  Sweet And Spacious Brooklyn Loft    21207     Chaya   \n",
            "25  8505                Sunny Bedroom Across Prospect Park    25326   Gregory   \n",
            "27  9357                              Midtown Pied-A-Terre    30193     Tommi   \n",
            "\n",
            "   neighbourhood_group    neighbourhood  latitude  longitude        room_type  \\\n",
            "4            Manhattan      East Harlem  40.79851  -73.94399  Entire home/apt   \n",
            "10           Manhattan  Upper West Side  40.80316  -73.96545  Entire home/apt   \n",
            "20            Brooklyn     Williamsburg  40.71842  -73.95718  Entire home/apt   \n",
            "25            Brooklyn  Windsor Terrace  40.65599  -73.97519     Private room   \n",
            "27           Manhattan   Hell'S Kitchen  40.76715  -73.98533  Entire home/apt   \n",
            "\n",
            "    price  minimum_nights  number_of_reviews last_review  reviews_per_month  \\\n",
            "4      80              10                  9  2018-11-19               0.10   \n",
            "10    135               5                 53  2019-06-22               0.43   \n",
            "20    299               3                  9  2011-12-28               0.07   \n",
            "25     60               1                 19  2019-06-23               1.37   \n",
            "27    150              10                 58  2017-08-13               0.49   \n",
            "\n",
            "    calculated_host_listings_count  availability_365  \n",
            "4                                1                 0  \n",
            "10                               1                 6  \n",
            "20                               1                 0  \n",
            "25                               2                85  \n",
            "27                               1                75  \n",
            "Dataset Info after removing outliers:\n",
            "<class 'pandas.core.frame.DataFrame'>\n",
            "Index: 22232 entries, 4 to 48852\n",
            "Data columns (total 16 columns):\n",
            " #   Column                          Non-Null Count  Dtype         \n",
            "---  ------                          --------------  -----         \n",
            " 0   id                              22232 non-null  int64         \n",
            " 1   name                            22228 non-null  object        \n",
            " 2   host_id                         22232 non-null  int64         \n",
            " 3   host_name                       22224 non-null  object        \n",
            " 4   neighbourhood_group             22232 non-null  object        \n",
            " 5   neighbourhood                   22232 non-null  object        \n",
            " 6   latitude                        22232 non-null  float64       \n",
            " 7   longitude                       22232 non-null  float64       \n",
            " 8   room_type                       22232 non-null  object        \n",
            " 9   price                           22232 non-null  int64         \n",
            " 10  minimum_nights                  22232 non-null  int64         \n",
            " 11  number_of_reviews               22232 non-null  int64         \n",
            " 12  last_review                     22232 non-null  datetime64[ns]\n",
            " 13  reviews_per_month               22232 non-null  float64       \n",
            " 14  calculated_host_listings_count  22232 non-null  int64         \n",
            " 15  availability_365                22232 non-null  int64         \n",
            "dtypes: datetime64[ns](1), float64(3), int64(7), object(5)\n",
            "memory usage: 2.9+ MB\n",
            "None\n"
          ]
        }
      ]
    }
  ]
}